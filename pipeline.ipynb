{
 "cells": [
  {
   "cell_type": "markdown",
   "metadata": {},
   "source": [
    "### Dane powiny być zorganizowane w folderze/lub w folderach w taki sposób żeby każdy sygnał był w fromcie .tdms a jego nazwa zawierała [nazwa unikalna dla folderu (liczba)] np d1sas0.tdms gdzie 'd1sas' to unikalna nazwa a '0' to numer pomiaru liczby powiny\n",
    "\n",
    "\n",
    "Jeśli pliki są uporzadkowane w innej formie to pominąć wszyskie kroki do bloku z funkcją obliczającą stft.\n",
    "Dostarczyć do tego bloku należy sygnały które zostały:\n",
    "-przepuszczone przez filtr środkowo przepustowy o dolnym granicy 3000 a górnej 10000\n",
    "\n",
    "-usuniecie przesuniecia skłądowej stałej sygnału (od każdej próbki należy odjąć wartość średnią sygnału)\n",
    "\n",
    "-dane dla każdych trzech pomiarówch pochodzących z konretnej kotwy powiny zostać skrócone do wartości długośći najkrzutrszego sygnału np mamy len(signal1) => 10000 len(siganl2) => 15000 len(signal3) => 7500 to wszyskie sygnały należy wyrównać do 7500\n",
    "\n",
    "-po wyrównaniu dzielimy sygnały na 50 000 próbk i kazdy z takich fragmentów łączymy w pakiety po 3 syganły odpowaidajace 3 sygnałom pomiarowym z kotew. np z 3 sygnałów pochodzącej z jednej kotwy gdzie kazdy po skróceniu ma 200 000 pkt otrzymujemy 4 pakiety o krztałcie [3, 50 000]\n",
    "\n",
    "Takie pakiety upchnięte w pd.dataframe przepuszaczmy przez funkjcje obliczajacą stft\n"
   ]
  },
  {
   "cell_type": "code",
   "execution_count": 1,
   "metadata": {},
   "outputs": [
    {
     "name": "stderr",
     "output_type": "stream",
     "text": [
      "c:\\Users\\patry\\AppData\\Local\\Programs\\Python\\Python311\\Lib\\site-packages\\tqdm\\auto.py:21: TqdmWarning: IProgress not found. Please update jupyter and ipywidgets. See https://ipywidgets.readthedocs.io/en/stable/user_install.html\n",
      "  from .autonotebook import tqdm as notebook_tqdm\n"
     ]
    }
   ],
   "source": [
    "# Standard library imports\n",
    "import os\n",
    "import re\n",
    "import warnings\n",
    "from pathlib import Path\n",
    "\n",
    "# Third-party library imports\n",
    "import numpy as np\n",
    "import pandas as pd\n",
    "import matplotlib.pyplot as plt\n",
    "from PIL import Image\n",
    "from sklearn.preprocessing import StandardScaler, LabelEncoder\n",
    "from sklearn.model_selection import train_test_split\n",
    "from sklearn.metrics import accuracy_score\n",
    "from scipy.signal import butter, lfilter, freqz, stft\n",
    "from torch.utils.data import Dataset, DataLoader\n",
    "import torch\n",
    "import torch.nn as nn\n",
    "from transformers import (\n",
    "    ViTImageProcessor, \n",
    "    ViTForImageClassification, \n",
    "    ViTConfig, \n",
    "    AdamW, \n",
    "    get_scheduler\n",
    ")\n",
    "from tqdm.auto import tqdm\n",
    "import joblib\n",
    "\n",
    "# Special-purpose imports\n",
    "from nptdms import TdmsFile\n",
    "\n",
    "# Suppress warnings\n",
    "warnings.filterwarnings('ignore')"
   ]
  },
  {
   "cell_type": "markdown",
   "metadata": {},
   "source": [
    "### Opis kodu\n",
    "\n",
    "Kod przeszukuje katalog oraz jego podkatalogi w celu znalezienia plików `.tdms` i zapisania ich pełnych ścieżek na liście.\n",
    "\n",
    "1. **Zmienna `tdms_dir`**: Określa ścieżkę do katalogu, w którym znajdują się pliki `.tdms`.\n",
    "2. **Przeszukiwanie katalogu**: Funkcja `os.walk()` iteruje przez katalogi i pliki w zadanej lokalizacji.\n",
    "3. **Filtracja plików**: Dla każdego pliku sprawdzane jest, czy kończy się na `.tdms`. Jeśli tak, jego pełna ścieżka jest dodawana do listy `tdms_list`.\n",
    "4. **Wyświetlanie informacji**: Dla każdego katalogu wyświetlana jest liczba podkatalogów i plików.\n",
    "\n",
    "W rezultacie `tdms_list` zawiera ścieżki wszystkich plików `.tdms`.\n"
   ]
  },
  {
   "cell_type": "code",
   "execution_count": 2,
   "metadata": {},
   "outputs": [
    {
     "name": "stdout",
     "output_type": "stream",
     "text": [
      "There are 3 directories and 0 file in C:\\Users\\patry\\Desktop\\studia\\engineering_thesis\\kopalnia\n",
      "There are 0 directories and 112 file in C:\\Users\\patry\\Desktop\\studia\\engineering_thesis\\kopalnia\\020224wieliczka\n",
      "There are 0 directories and 76 file in C:\\Users\\patry\\Desktop\\studia\\engineering_thesis\\kopalnia\\210224wieliczka\n",
      "There are 0 directories and 86 file in C:\\Users\\patry\\Desktop\\studia\\engineering_thesis\\kopalnia\\220424wieliczka\n"
     ]
    }
   ],
   "source": [
    "tdms_dir = r'C:\\Users\\patry\\Desktop\\studia\\engineering_thesis\\kopalnia' \n",
    "\n",
    "tdms_list = []\n",
    "\n",
    "for root, dirs, files in os.walk(tdms_dir):\n",
    "    print(f\"There are {len(dirs)} directories and {len(files)} file in {root}\")\n",
    "    \n",
    "    for file in files:\n",
    "        if file.endswith(\".tdms\"):\n",
    "            tdms_list.append(os.path.join(root, file))"
   ]
  },
  {
   "cell_type": "markdown",
   "metadata": {},
   "source": [
    "### Opis kodu\n",
    "\n",
    "Kod przetwarza pliki `.tdms` z wcześniej utworzonej listy `tdms_list`, wyodrębniając dane i zapisując je w obiekcie DataFrame.\n",
    "\n",
    "1. **Tworzenie listy `data_list`**: Inicjalizowana jest pusta lista, która będzie przechowywać dane z plików.\n",
    "   \n",
    "2. **Przetwarzanie plików `.tdms`**:\n",
    "   - Dla każdego pliku TDMS z listy `tdms_list`:\n",
    "     - Otwierany jest plik przy użyciu `TdmsFile.read()`.\n",
    "     - Z nazwy pliku wyciągana jest jego nazwa oraz nazwa folderu nadrzędnego.\n",
    "     - Za pomocą wyrażeń regularnych wyciągane są identyfikatory, takie jak numer na początku nazwy pliku oraz numer przed ostatnim folderem.\n",
    "   \n",
    "3. **Dodawanie danych do listy**:\n",
    "   - Sprawdzane są warunki: jeśli nazwa pliku nie zaczyna się od 'z' i jeśli kanał ma nazwę 'Voltage', to dane z kanału są dodawane do listy `data_list` w postaci słownika zawierającego:\n",
    "     - `excitation` – dane z kanału,\n",
    "     - `type_id` – wartość 1, jeśli nazwa pliku zaczyna się od 'd', w przeciwnym razie 0,\n",
    "     - `identifier` – wyekstrahowany identyfikator z nazwy pliku i folderu nadrzędnego.\n",
    "\n",
    "4. **Tworzenie DataFrame**:\n",
    "   - Na podstawie listy `data_list` tworzony jest obiekt `DataFrame` o nazwie `df_magnitude`, który zawiera wszystkie przetworzone dane.\n"
   ]
  },
  {
   "cell_type": "code",
   "execution_count": 3,
   "metadata": {},
   "outputs": [],
   "source": [
    "data_list = []\n",
    "\n",
    "for tdms_file_path in tdms_list:\n",
    "    tdms_file = TdmsFile.read(tdms_file_path)\n",
    "    file_name = os.path.basename(tdms_file_path) \n",
    "    parent_folder = os.path.basename(os.path.dirname(tdms_file_path)) \n",
    "\n",
    "    first_letter_number = re.match(r'^[a-zA-Z]+\\d+', file_name) \n",
    "    identifier = first_letter_number.group() if first_letter_number else None \n",
    "\n",
    "    # Wyciągnij numer przed ostatnim folderem (np. \"020224\" z \"020224wieliczka\")\n",
    "    match_parent_number = re.match(r'\\d+', parent_folder)\n",
    "    parent_number = match_parent_number.group() if match_parent_number else \"\"\n",
    "\n",
    "    if identifier and parent_number:\n",
    "        identifier = f\"{parent_number}{identifier}\"\n",
    "\n",
    "    for group in tdms_file.groups():\n",
    "        for channel in group.channels():\n",
    "            data_len = np.shape(channel.data)[0]\n",
    "            if (file_name[0] != 'z' and channel.name == 'Voltage'):\n",
    "                data_list.append({\n",
    "                    'excitation': channel.data,\n",
    "                    'type_id': 1 if file_name[0] == 'd' else 0,\n",
    "                    'identifier': identifier  \n",
    "                })\n",
    "\n",
    "df_magnitude = pd.DataFrame(data_list)"
   ]
  },
  {
   "cell_type": "markdown",
   "metadata": {},
   "source": [
    "### Opis kodu\n",
    "\n",
    "Kod wykonuje filtrowanie pasmowe danych zawartych w kolumnie `excitation` DataFrame `df_magnitude` za pomocą funkcji `bandpass_filter`.\n",
    "\n",
    "1. **Funkcja `bandpass_filter`**:\n",
    "   - **Wejście**:\n",
    "     - `data` – dane wejściowe, które mają zostać przefiltrowane,\n",
    "     - `lowcut` – dolna granica pasma (częstotliwość),\n",
    "     - `highcut` – górna granica pasma (częstotliwość),\n",
    "     - `fs` – częstotliwość próbkowania,\n",
    "     - `order` – rząd filtra (domyślnie 5).\n",
    "   - **Działanie**:\n",
    "     - Częstotliwość Nyquista (`nyquist`) jest obliczana jako połowa częstotliwości próbkowania.\n",
    "     - Częstotliwości graniczne (`low` i `high`) są przekształcane do jednostki Nyquista.\n",
    "     - Projektowany jest filtr pasmowy przy użyciu funkcji `butter` z biblioteki `scipy.signal`, a następnie sygnał jest filtrowany za pomocą funkcji `lfilter`.\n",
    "   - **Wyjście**:\n",
    "     - Przefiltrowane dane (sygnał) są zwracane.\n",
    "\n",
    "2. **Filtrowanie danych**:\n",
    "   - Wartości w kolumnie `excitation` DataFrame `df_magnitude` są przetwarzane, aby dla każdej z nich zastosować filtr pasmowy.\n",
    "   - Zakłada się pasmo 4000-8000 Hz i częstotliwość próbkowania 50000 Hz, co jest realizowane za pomocą metody `.apply()`, która stosuje funkcję `bandpass_filter` do każdej próbki danych w kolumnie.\n"
   ]
  },
  {
   "cell_type": "code",
   "execution_count": 4,
   "metadata": {},
   "outputs": [],
   "source": [
    "def bandpass_filter(data, lowcut, highcut, fs, order=5):\n",
    "    nyquist = 0.5 * fs  # Częstotliwość Nyquista\n",
    "    low = lowcut / nyquist\n",
    "    high = highcut / nyquist\n",
    "    \n",
    "    # Projektowanie filtra\n",
    "    b, a = butter(order, [low, high], btype='band')\n",
    "    # Filtrowanie sygnału\n",
    "    y = lfilter(b, a, data)\n",
    "    return y\n",
    "\n",
    "df_magnitude['excitation'] = df_magnitude['excitation'].apply(lambda x: bandpass_filter(x, 4000, 8000, 50000))"
   ]
  },
  {
   "cell_type": "markdown",
   "metadata": {},
   "source": [
    "### Opis kodu\n",
    "\n",
    "Ten fragment kodu przetwarza dane w DataFrame `df_magnitude` poprzez tworzenie unikalnych identyfikatorów dla wartości w kolumnie `identifier` oraz filtrowanie wierszy zduplikowanych identyfikatorów.\n",
    "\n",
    "1. **Tworzenie kolumny `id`**:\n",
    "   - Funkcja `pd.factorize()` jest używana do przypisania unikalnych liczb całkowitych do różnych wartości w kolumnie `identifier`. Wynikiem tej funkcji jest krotka, w której pierwszy element to tablica z przypisanymi liczbami całkowitymi, a drugi to lista unikalnych wartości.\n",
    "   - Przypisujemy tylko pierwszą część krotki (unikalne liczby) do nowej kolumny `id` w DataFrame `df_magnitude`.\n",
    "\n",
    "2. **Filtrowanie wierszy zduplikowanych identyfikatorów**:\n",
    "   - Funkcja `.duplicated()` sprawdza, które wiersze mają zduplikowane identyfikatory w kolumnie `id`. Argument `keep=False` oznacza, że wszystkie wystąpienia zduplikowanych identyfikatorów (a nie tylko pierwsze) będą oznaczone jako `True`.\n",
    "   - Tylko wiersze, które mają zduplikowane identyfikatory, są zachowywane w DataFrame, ponieważ filtrujemy DataFrame, pozostawiając tylko te wiersze, w których `id` jest zduplikowane (usuwane sa pojedyncze wartosci identyfikatorów)\n",
    "\n",
    "3. **Rezultat**:\n",
    "   - DataFrame `df_magnitude` zawiera teraz tylko te wiersze, które mają zduplikowane wartości w kolumnie `identifier`, a nowa kolumna `id` zawiera przypisane numery identyfikacyjne dla każdego unikalnego identyfikatora.\n"
   ]
  },
  {
   "cell_type": "code",
   "execution_count": 5,
   "metadata": {},
   "outputs": [
    {
     "data": {
      "text/html": [
       "<div>\n",
       "<style scoped>\n",
       "    .dataframe tbody tr th:only-of-type {\n",
       "        vertical-align: middle;\n",
       "    }\n",
       "\n",
       "    .dataframe tbody tr th {\n",
       "        vertical-align: top;\n",
       "    }\n",
       "\n",
       "    .dataframe thead th {\n",
       "        text-align: right;\n",
       "    }\n",
       "</style>\n",
       "<table border=\"1\" class=\"dataframe\">\n",
       "  <thead>\n",
       "    <tr style=\"text-align: right;\">\n",
       "      <th></th>\n",
       "      <th>excitation</th>\n",
       "      <th>type_id</th>\n",
       "      <th>identifier</th>\n",
       "      <th>id</th>\n",
       "    </tr>\n",
       "  </thead>\n",
       "  <tbody>\n",
       "    <tr>\n",
       "      <th>0</th>\n",
       "      <td>[0.005053682283559274, 0.03691918726452065, 0....</td>\n",
       "      <td>1</td>\n",
       "      <td>020224d10</td>\n",
       "      <td>0</td>\n",
       "    </tr>\n",
       "    <tr>\n",
       "      <th>1</th>\n",
       "      <td>[-0.005080443155479619, -0.03630902828002723, ...</td>\n",
       "      <td>1</td>\n",
       "      <td>020224d10</td>\n",
       "      <td>0</td>\n",
       "    </tr>\n",
       "    <tr>\n",
       "      <th>2</th>\n",
       "      <td>[0.005053682283559274, 0.03691918726452065, 0....</td>\n",
       "      <td>1</td>\n",
       "      <td>020224d10</td>\n",
       "      <td>0</td>\n",
       "    </tr>\n",
       "    <tr>\n",
       "      <th>3</th>\n",
       "      <td>[0.005053682283559274, 0.026785061825481758, 0...</td>\n",
       "      <td>1</td>\n",
       "      <td>020224d10</td>\n",
       "      <td>0</td>\n",
       "    </tr>\n",
       "    <tr>\n",
       "      <th>4</th>\n",
       "      <td>[-1.3198560286974615e-05, -8.192032366132593e-...</td>\n",
       "      <td>1</td>\n",
       "      <td>020224d1</td>\n",
       "      <td>1</td>\n",
       "    </tr>\n",
       "    <tr>\n",
       "      <th>...</th>\n",
       "      <td>...</td>\n",
       "      <td>...</td>\n",
       "      <td>...</td>\n",
       "      <td>...</td>\n",
       "    </tr>\n",
       "    <tr>\n",
       "      <th>124</th>\n",
       "      <td>[-0.005104894796977349, -0.03729331532938133, ...</td>\n",
       "      <td>0</td>\n",
       "      <td>220424g3</td>\n",
       "      <td>48</td>\n",
       "    </tr>\n",
       "    <tr>\n",
       "      <th>125</th>\n",
       "      <td>[0.0051132676500922165, 0.03735448239821186, 0...</td>\n",
       "      <td>0</td>\n",
       "      <td>220424g3</td>\n",
       "      <td>48</td>\n",
       "    </tr>\n",
       "    <tr>\n",
       "      <th>126</th>\n",
       "      <td>[0.0051132676500922165, 0.03735448239821186, 0...</td>\n",
       "      <td>0</td>\n",
       "      <td>220424g6</td>\n",
       "      <td>49</td>\n",
       "    </tr>\n",
       "    <tr>\n",
       "      <th>127</th>\n",
       "      <td>[-0.005104894796977349, -0.03729331532938133, ...</td>\n",
       "      <td>0</td>\n",
       "      <td>220424g6</td>\n",
       "      <td>49</td>\n",
       "    </tr>\n",
       "    <tr>\n",
       "      <th>128</th>\n",
       "      <td>[0.0051132676500922165, 0.03735448239821186, 0...</td>\n",
       "      <td>0</td>\n",
       "      <td>220424g6</td>\n",
       "      <td>49</td>\n",
       "    </tr>\n",
       "  </tbody>\n",
       "</table>\n",
       "<p>116 rows × 4 columns</p>\n",
       "</div>"
      ],
      "text/plain": [
       "                                            excitation  type_id identifier  id\n",
       "0    [0.005053682283559274, 0.03691918726452065, 0....        1  020224d10   0\n",
       "1    [-0.005080443155479619, -0.03630902828002723, ...        1  020224d10   0\n",
       "2    [0.005053682283559274, 0.03691918726452065, 0....        1  020224d10   0\n",
       "3    [0.005053682283559274, 0.026785061825481758, 0...        1  020224d10   0\n",
       "4    [-1.3198560286974615e-05, -8.192032366132593e-...        1   020224d1   1\n",
       "..                                                 ...      ...        ...  ..\n",
       "124  [-0.005104894796977349, -0.03729331532938133, ...        0   220424g3  48\n",
       "125  [0.0051132676500922165, 0.03735448239821186, 0...        0   220424g3  48\n",
       "126  [0.0051132676500922165, 0.03735448239821186, 0...        0   220424g6  49\n",
       "127  [-0.005104894796977349, -0.03729331532938133, ...        0   220424g6  49\n",
       "128  [0.0051132676500922165, 0.03735448239821186, 0...        0   220424g6  49\n",
       "\n",
       "[116 rows x 4 columns]"
      ]
     },
     "execution_count": 5,
     "metadata": {},
     "output_type": "execute_result"
    }
   ],
   "source": [
    "df_magnitude['id'] = pd.factorize(df_magnitude['identifier'])[0]\n",
    "df_magnitude = df_magnitude[df_magnitude['id'].duplicated(keep=False) == True]\n",
    "df_magnitude"
   ]
  },
  {
   "cell_type": "markdown",
   "metadata": {},
   "source": [
    "### Opis kodu\n",
    "\n",
    "Ten fragment kodu grupuje dane w DataFrame `df_magnitude` według kolumny `id` i przetwarza grupy w celu podziału ich na dwie podgrupy, jeżeli grupa ma dokładnie 6 elementów.\n",
    "\n",
    "1. **Grupowanie danych**:\n",
    "   - Dane są grupowane według kolumny `id` za pomocą funkcji `groupby()`. Tworzy to obiekt, który umożliwia iterację przez każdą grupę danych.\n",
    "\n",
    "2. **Przetwarzanie każdej grupy**:\n",
    "   - Dla każdej grupy (czyli dla każdego unikalnego `id`):\n",
    "     - **Sprawdzenie długości grupy**: Jeżeli grupa ma dokładnie 6 elementów, to:\n",
    "       - Grupa jest dzielona na dwie podgrupy (pierwsza połowa i druga połowa).\n",
    "       - Wartość identyfikatora w drugiej podgrupie jest zwiększana o 100 (modyfikacja kolumny `id`).\n",
    "       - Obie podgrupy są dodawane do listy `new_rows`.\n",
    "     - Jeśli grupa ma inną długość niż 6, jest dodawana do listy `new_rows` bez zmian.\n",
    "\n",
    "3. **Tworzenie nowego DataFrame**:\n",
    "   - Wszystkie przetworzone grupy (zarówno zmodyfikowane, jak i niezmienione) są łączone w jeden DataFrame za pomocą funkcji `pd.concat()`, a wynikowy DataFrame jest przypisany z powrotem do `df_magnitude`.\n",
    "\n",
    "4. **Rezultat**:\n",
    "   - `df_magnitude` zawiera teraz dane, w których grupy o identyfikatorach z grupą 6 elementów zostały podzielone na dwie podgrupy, z modyfikacją identyfikatora w drugiej podgrupie.\n"
   ]
  },
  {
   "cell_type": "code",
   "execution_count": 6,
   "metadata": {},
   "outputs": [],
   "source": [
    "grouped = df_magnitude.groupby('id')\n",
    "\n",
    "new_rows = []\n",
    "\n",
    "for group_id, group in grouped:\n",
    "    if len(group) == 6:\n",
    "        half = len(group) // 2\n",
    "        group1 = group.iloc[:half]\n",
    "        group2 = group.iloc[half:]\n",
    "        \n",
    "        group2['id'] = group_id + 100\n",
    "        \n",
    "        new_rows.append(group1)\n",
    "        new_rows.append(group2)\n",
    "    else:\n",
    "        new_rows.append(group)\n",
    "\n",
    "# Łączymy wszystkie wiersze w jeden DataFrame\n",
    "df_magnitude = pd.concat(new_rows, ignore_index=True)"
   ]
  },
  {
   "cell_type": "markdown",
   "metadata": {},
   "source": [
    "### Opis kodu\n",
    "\n",
    "Ten fragment kodu przetwarza dane w DataFrame `df_magnitude`, dodając lub usuwając wiersze na podstawie liczby wystąpień identyfikatora `id` w zbiorze danych.\n",
    "\n",
    "1. **Obliczanie liczby wystąpień identyfikatora `id`**:\n",
    "   - Funkcja `groupby('id').size()` oblicza liczbę wystąpień każdego unikalnego identyfikatora `id` w DataFrame `df_magnitude`. Wynik jest zapisywany w zmiennej `counts`, która zawiera identyfikatory oraz ich liczbę wystąpień.\n",
    "\n",
    "2. **Tworzenie kopii DataFrame**:\n",
    "   - Tworzona jest kopia DataFrame `df_magnitude` pod nazwą `modified_df`, aby wprowadzać zmiany na kopii, zachowując oryginalne dane.\n",
    "\n",
    "3. **Przetwarzanie wierszy na podstawie liczby wystąpień identyfikatora `id`**:\n",
    "   - **Dla identyfikatorów występujących 2 razy**: Wiersz z identyfikatorem występującym dwukrotnie zostaje skopiowany i dodany do `modified_df` (dodanie duplikatu).\n",
    "   - **Dla identyfikatorów występujących 4 razy**: Jeden z wierszy z identyfikatorem występującym czterokrotnie jest usuwany z `modified_df`.\n",
    "\n",
    "4. **Sprawdzanie unikalnych identyfikatorów po modyfikacji**:\n",
    "   - Funkcja `np.unique()` z argumentem `return_counts=True` zwraca unikalne identyfikatory `id` oraz liczbę ich wystąpień w zmodyfikowanym DataFrame `modified_df`. To pozwala sprawdzić, czy operacje dodawania i usuwania wierszy zostały przeprowadzone prawidłowo.\n",
    "\n",
    "5. **Rezultat**:\n",
    "   - W wyniku działania kodu identyfikatory, które występowały 2 razy, zostaną powielone, a te, które występowały 4 razy, zostaną zredukowane o jeden wiersz. Na końcu wyświetlane są unikalne identyfikatory oraz liczba ich wystąpień w zmodyfikowanym DataFrame.\n",
    "\n",
    "\n",
    "\n",
    "\n",
    "Po tym procesie dane powiny byc już uporzadkowane po 3 moiary dla kazdej kotwy i print powinein wygalądać tak\n",
    "\n",
    " array([3, 3, 3, 3, 3, 3, 3, 3, 3, 3, 3, 3, 3, 3, 3, 3, 3, 3, 3, 3, 3, 3,\n",
    "        3, 3, 3, 3, 3, 3, 3, 3, 3, 3, 3, 3, 3, 3, 3, 3, 3, 3], dtype=int64)\n"
   ]
  },
  {
   "cell_type": "code",
   "execution_count": 7,
   "metadata": {},
   "outputs": [
    {
     "data": {
      "text/plain": [
       "(array([  0,   1,   2,   3,   4,   5,   6,   7,   8,   9,  11,  12,  20,\n",
       "         21,  22,  24,  25,  26,  31,  32,  33,  34,  35,  36,  37,  38,\n",
       "         39,  40,  41,  42,  43,  44,  45,  46,  47,  48,  49, 111, 140,\n",
       "        147], dtype=int64),\n",
       " array([3, 3, 3, 3, 3, 3, 3, 3, 3, 3, 3, 3, 3, 3, 3, 3, 3, 3, 3, 3, 3, 3,\n",
       "        3, 3, 3, 3, 3, 3, 3, 3, 3, 3, 3, 3, 3, 3, 3, 3, 3, 3], dtype=int64))"
      ]
     },
     "execution_count": 7,
     "metadata": {},
     "output_type": "execute_result"
    }
   ],
   "source": [
    "counts = df_magnitude.groupby('id').size()\n",
    "\n",
    "modified_df = df_magnitude.copy()\n",
    "\n",
    "for id_value, count in counts.items():\n",
    "    if count == 2:\n",
    "        rows_to_add = df_magnitude[df_magnitude['id'] == id_value].iloc[0:1]\n",
    "        modified_df = pd.concat([modified_df, rows_to_add], ignore_index=True)\n",
    "    elif count == 4:\n",
    "        rows_to_remove = df_magnitude[df_magnitude['id'] == id_value].iloc[0:1]\n",
    "        modified_df = modified_df[~modified_df.index.isin(rows_to_remove.index)]\n",
    "\n",
    "np.unique(np.array(modified_df['id']), return_counts=True)"
   ]
  },
  {
   "cell_type": "markdown",
   "metadata": {},
   "source": [
    "### Opis kodu\n",
    "\n",
    "Ten fragment kodu przetwarza dane w DataFrame `modified_df`, obliczając długości sygnałów, dostosowując długość sygnałów w ramach grup oraz obliczając czas trwania dla każdego sygnału.\n",
    "\n",
    "1. **Dodanie kolumny 'len'**:\n",
    "   - Kolumna `len` jest tworzona, w której dla każdej wartości w kolumnie `excitation` (zakładając, że `excitation` to lista lub tablica) obliczana jest jej długość za pomocą funkcji `len()`.\n",
    "\n",
    "2. **Funkcja `trim_to_min_length`**:\n",
    "   - Definiowana jest funkcja `trim_to_min_length()`, która:\n",
    "     - Określa minimalną długość sygnału w grupie za pomocą `group['len'].min()`.\n",
    "     - Dostosowuje wszystkie sygnały w grupie, przycinając je do tej minimalnej długości, co oznacza, że sygnały w obrębie jednej grupy będą miały tę samą długość.\n",
    "\n",
    "3. **Zastosowanie funkcji w grupach**:\n",
    "   - Na DataFrame `modified_df` wykonywane jest grupowanie po kolumnie `id` (dzięki `.groupby('id')`), a następnie do każdej grupy stosowana jest funkcja `trim_to_min_length`, co powoduje przycięcie sygnałów do minimalnej długości w grupie.\n",
    "\n",
    "4. **Ponowne obliczenie długości sygnałów**:\n",
    "   - Po przycięciu sygnałów, obliczana jest na nowo długość każdego sygnału i zapisywana w kolumnie `len`.\n",
    "\n",
    "5. **Usuwanie poziomu indeksu**:\n",
    "   - Funkcja `.droplevel(level=0)` usuwa poziom indeksu, który został dodany podczas grupowania.\n",
    "\n",
    "6. **Usuwanie kolumny 'len'**:\n",
    "   - Kolumna `len` jest usuwana za pomocą metody `.drop(columns=['len'])`, ponieważ jej rola została już spełniona.\n",
    "\n",
    "7. **Obliczanie czasu trwania sygnału**:\n",
    "   - Kolumna `time` jest tworzona, obliczając czas trwania sygnału jako długość sygnału podzieloną przez częstotliwość próbkowania (50000 próbek na sekundę). Czas trwania jest obliczany dla każdego sygnału i zapisany w kolumnie `time`.\n",
    "\n",
    "8. **Rezultat**:\n",
    "   - DataFrame `modified_df` zawiera teraz kolumny `excitation` (z przyciętymi sygnałami), `time` (z czasem trwania każdego sygnału) oraz pozostałe kolumny, a kolumna `len` została usunięta.\n"
   ]
  },
  {
   "cell_type": "code",
   "execution_count": 8,
   "metadata": {},
   "outputs": [],
   "source": [
    "modified_df['len'] = modified_df['excitation'].apply(lambda x: len(x))\n",
    "\n",
    "def trim_to_min_length(group):\n",
    "    min_len = group['len'].min()  \n",
    "    group['excitation'] = group['excitation'].apply(lambda x: x[:min_len]) \n",
    "    return group\n",
    "\n",
    "modified_df = modified_df.groupby('id').apply(trim_to_min_length)\n",
    "\n",
    "modified_df['len'] = modified_df['excitation'].apply(lambda x: len(x))\n",
    "\n",
    "modified_df = modified_df.droplevel(level=0)\n",
    "\n",
    "modified_df.drop(columns=['len'], inplace=True)\n",
    "\n",
    "modified_df['time'] = modified_df['excitation'].apply(lambda x: len(x) / 50000)"
   ]
  },
  {
   "cell_type": "markdown",
   "metadata": {},
   "source": [
    "### Opis kodu\n",
    "\n",
    "Ten fragment kodu dzieli sygnały z kolumny `excitation` na mniejsze fragmenty, tworząc z nich listy podzielone na określoną liczbę \"kawałków\".\n",
    "\n",
    "1. **Funkcja `slice_into_chunks(lst, num_chunks)`**:\n",
    "   - Funkcja ta dzieli listę `lst` na `num_chunks` części. \n",
    "   - Używa list comprehension do podziału listy na fragmenty o długości 50,000 próbek (tj. 50,000 próbek na \"kawałek\").\n",
    "   - Zakłada się, że `num_chunks` jest liczbą całkowitą, a `lst` jest listą o długości, którą można podzielić na określoną liczbę kawałków.\n",
    "\n",
    "2. **Zastosowanie funkcji w DataFrame**:\n",
    "   - Za pomocą `.apply()` funkcja `slice_into_chunks()` jest stosowana do każdej kolumny `excitation` w DataFrame `modified_df`.\n",
    "   - Dla każdej komórki w kolumnie `excitation`, funkcja jest wywoływana, przekazując sygnał (`row['excitation']`) oraz czas trwania sygnału (`row['time']`), który wskazuje, ile kawałków (części) powinno zostać utworzonych.\n",
    "   - `row['time']` jest liczbą, która reprezentuje czas trwania sygnału w sekundach, co pozwala obliczyć liczbę kawałków na podstawie częstotliwości próbkowania (zakładając, że dane mają częstotliwość 50,000 próbek na sekundę).\n",
    "\n",
    "3. **Rezultat**:\n",
    "   - Kolumna `excitation` w `modified_df` zostaje zaktualizowana, gdzie każdy sygnał jest teraz podzielony na listy, które zawierają kawałki sygnałów o długości 50,000 próbek, zgodnie z czasem trwania sygnału.\n"
   ]
  },
  {
   "cell_type": "code",
   "execution_count": 9,
   "metadata": {},
   "outputs": [],
   "source": [
    "def slice_into_chunks(lst, num_chunks):\n",
    "    return np.array([lst[i * 50000:(i + 1) * 50000] for i in range(int(num_chunks))])\n",
    "\n",
    "modified_df['excitation'] = modified_df.apply(lambda row: slice_into_chunks(row['excitation'], row['time']), axis=1)"
   ]
  },
  {
   "cell_type": "markdown",
   "metadata": {},
   "source": [
    "Ten fragment tylko wyrównuje id kotew zeby bylo pokolei."
   ]
  },
  {
   "cell_type": "code",
   "execution_count": 10,
   "metadata": {},
   "outputs": [],
   "source": [
    "modified_df['id'] = pd.factorize(modified_df['id'])[0]"
   ]
  },
  {
   "cell_type": "markdown",
   "metadata": {},
   "source": [
    "### Opis kodu\n",
    "\n",
    "Ten fragment kodu agreguje dane w DataFrame `modified_df` według kolumny `id`, tworząc nowy DataFrame `df_concat`.\n",
    "\n",
    "1. **Grupowanie po `id`**:\n",
    "   - `modified_df.groupby('id')` grupuje dane w DataFrame na podstawie wartości w kolumnie `id`. Każda grupa zawiera wiersze, które mają tę samą wartość w kolumnie `id`.\n",
    "\n",
    "2. **Agregowanie danych**:\n",
    "   - `.agg()` pozwala na zastosowanie różnych funkcji agregujących do poszczególnych kolumn w ramach każdej grupy.\n",
    "   - `excitation`: Dla każdej grupy łączymy dane z kolumny `excitation` w listę, używając funkcji `lambda x: x.tolist()`.\n",
    "   - `type_id`, `identifier`, `time`: Dla tych kolumn zachowujemy pierwszą wartość z każdej grupy, używając `'first'`.\n",
    "\n",
    "3. **Resetowanie indeksu**:\n",
    "   - `.reset_index()` jest używane, aby zresetować indeksy po grupowaniu. Bez tego kroku, `id` stałoby się indeksem w wynikowym DataFrame.\n",
    "\n",
    "4. **Rezultat**:\n",
    "   - Wynikiem jest DataFrame `df_concat`, który zawiera:\n",
    "     - Kolumnę `id` z unikalnymi identyfikatorami.\n",
    "     - Kolumnę `excitation`, która zawiera listy sygnałów z grupy.\n",
    "     - Kolumny `type_id`, `identifier`, i `time` z zachowanymi pierwszymi wartościami dla każdej grupy.\n",
    "   - `df_concat.head()` pokazuje pierwsze 5 wierszy nowo utworzonego DataFrame, co pozwala na szybki podgląd wyników.\n",
    "\n"
   ]
  },
  {
   "cell_type": "code",
   "execution_count": 11,
   "metadata": {},
   "outputs": [
    {
     "data": {
      "text/html": [
       "<div>\n",
       "<style scoped>\n",
       "    .dataframe tbody tr th:only-of-type {\n",
       "        vertical-align: middle;\n",
       "    }\n",
       "\n",
       "    .dataframe tbody tr th {\n",
       "        vertical-align: top;\n",
       "    }\n",
       "\n",
       "    .dataframe thead th {\n",
       "        text-align: right;\n",
       "    }\n",
       "</style>\n",
       "<table border=\"1\" class=\"dataframe\">\n",
       "  <thead>\n",
       "    <tr style=\"text-align: right;\">\n",
       "      <th></th>\n",
       "      <th>id</th>\n",
       "      <th>excitation</th>\n",
       "      <th>type_id</th>\n",
       "      <th>identifier</th>\n",
       "      <th>time</th>\n",
       "    </tr>\n",
       "  </thead>\n",
       "  <tbody>\n",
       "    <tr>\n",
       "      <th>0</th>\n",
       "      <td>0</td>\n",
       "      <td>[[[-0.005080443155479619, -0.03630902828002723...</td>\n",
       "      <td>1</td>\n",
       "      <td>020224d10</td>\n",
       "      <td>4.0</td>\n",
       "    </tr>\n",
       "    <tr>\n",
       "      <th>1</th>\n",
       "      <td>1</td>\n",
       "      <td>[[[-1.3198560286974615e-05, -8.192032366132593...</td>\n",
       "      <td>1</td>\n",
       "      <td>020224d1</td>\n",
       "      <td>9.0</td>\n",
       "    </tr>\n",
       "    <tr>\n",
       "      <th>2</th>\n",
       "      <td>2</td>\n",
       "      <td>[[[0.00022987941720568506, 0.00167406060296627...</td>\n",
       "      <td>1</td>\n",
       "      <td>020224d2</td>\n",
       "      <td>2.0</td>\n",
       "    </tr>\n",
       "    <tr>\n",
       "      <th>3</th>\n",
       "      <td>3</td>\n",
       "      <td>[[[0.0030463414378407443, 0.014127968219533712...</td>\n",
       "      <td>1</td>\n",
       "      <td>020224d3</td>\n",
       "      <td>1.0</td>\n",
       "    </tr>\n",
       "    <tr>\n",
       "      <th>4</th>\n",
       "      <td>4</td>\n",
       "      <td>[[[-0.005080443155479619, -0.03711468622673346...</td>\n",
       "      <td>1</td>\n",
       "      <td>020224d4</td>\n",
       "      <td>8.0</td>\n",
       "    </tr>\n",
       "  </tbody>\n",
       "</table>\n",
       "</div>"
      ],
      "text/plain": [
       "   id                                         excitation  type_id identifier  \\\n",
       "0   0  [[[-0.005080443155479619, -0.03630902828002723...        1  020224d10   \n",
       "1   1  [[[-1.3198560286974615e-05, -8.192032366132593...        1   020224d1   \n",
       "2   2  [[[0.00022987941720568506, 0.00167406060296627...        1   020224d2   \n",
       "3   3  [[[0.0030463414378407443, 0.014127968219533712...        1   020224d3   \n",
       "4   4  [[[-0.005080443155479619, -0.03711468622673346...        1   020224d4   \n",
       "\n",
       "   time  \n",
       "0   4.0  \n",
       "1   9.0  \n",
       "2   2.0  \n",
       "3   1.0  \n",
       "4   8.0  "
      ]
     },
     "execution_count": 11,
     "metadata": {},
     "output_type": "execute_result"
    }
   ],
   "source": [
    "df_concat = modified_df.groupby('id').agg({\n",
    "    'excitation': lambda x: x.tolist(),\n",
    "    'type_id': 'first',        # zachowuje pierwszą wartość\n",
    "    'identifier': 'first',     # zachowuje pierwszą wartość\n",
    "    'time': 'first'            # zachowuje pierwszą wartość\n",
    "}).reset_index()\n",
    "\n",
    "df_concat.head()"
   ]
  },
  {
   "cell_type": "markdown",
   "metadata": {},
   "source": [
    "### Opis kodu\n",
    "\n",
    "Ten fragment kodu wykonuje normalizację sygnałów (wartości w `excitation`) przy użyciu klasy `StandardScaler` oraz zapisuje wyuczony scaler do pliku.\n",
    "\n",
    "1. **Tworzenie listy `magnitude` i `name`**:\n",
    "   - `magnitude = []` i `name = []` to listy, które będą przechowywać odpowiednio wartości sygnałów oraz przypisane do nich etykiety (np. `type_id`).\n",
    "   - Pętla `for idx, row in df_concat.iterrows():` iteruje przez każdy wiersz w DataFrame `df_concat`.\n",
    "     - `row['type_id']`: Zmienna `lasty_name` przechowuje identyfikator typu sygnału z kolumny `type_id` w danym wierszu.\n",
    "     - `for segment in row['excitation']:`: Dla każdego segmentu w kolumnie `excitation` (która zawiera listy sygnałów), pętla wewnętrzna `for s in segment:` iteruje przez wartości w danym segmencie.\n",
    "       - `magnitude.append(s)` dodaje wartość sygnału `s` do listy `magnitude`.\n",
    "       - `name.append(lasty_name)` dodaje identyfikator typu sygnału `lasty_name` do listy `name`.\n",
    "\n",
    "2. **Normalizacja danych**:\n",
    "   - `sc = StandardScaler()` tworzy obiekt skalera, który będzie używany do normalizacji danych.\n",
    "   - `sc.fit(magnitude)` dopasowuje skalera do danych w `magnitude`, czyli normalizuje wartości, obliczając średnią i odchylenie standardowe.\n",
    "\n",
    "3. **Zapisanie skalera**:\n",
    "   - `joblib.dump(sc, 'scaler.pkl')` zapisuje wyuczony obiekt skalera `sc` do pliku o nazwie `'scaler.pkl'`. Dzięki temu później będzie można wczytać ten scaler i używać go do przekształcania nowych danych.\n",
    "\n",
    "### Rezultat:\n",
    "- Utworzony plik `'scaler.pkl'` zawiera zapisany scaler, który może być później używany do normalizacji nowych danych na podstawie tych samych parametrów (średnia i odchylenie standardowe) co dane, na których został wyuczony.\n"
   ]
  },
  {
   "cell_type": "code",
   "execution_count": 12,
   "metadata": {},
   "outputs": [
    {
     "name": "stdout",
     "output_type": "stream",
     "text": [
      "(651, 50000)\n"
     ]
    },
    {
     "data": {
      "text/plain": [
       "['scaler.pkl']"
      ]
     },
     "execution_count": 12,
     "metadata": {},
     "output_type": "execute_result"
    }
   ],
   "source": [
    "magnitude = []\n",
    "name = []\n",
    "for idx, row in df_concat.iterrows():\n",
    "    lasty_name = row['type_id']\n",
    "    for segment in row['excitation']:\n",
    "        for s in segment:\n",
    "            magnitude.append(s)\n",
    "            name.append(lasty_name)\n",
    "\n",
    "print(np.array(magnitude).shape)\n",
    "\n",
    "sc = StandardScaler()\n",
    "sc.fit(magnitude)\n",
    "\n",
    "joblib.dump(sc, 'scaler.pkl')"
   ]
  },
  {
   "cell_type": "markdown",
   "metadata": {},
   "source": [
    "### Opis kodu\n",
    "\n",
    "Ten fragment kodu rozbija dane w DataFrame `df_concat` na mniejsze segmenty sygnałów i tworzy nowy DataFrame `df_expanded`, który zawiera rozszerzone informacje o sygnałach.\n",
    "\n",
    "1. **Inicjalizacja list**:\n",
    "   - `magnitude = []`, `name = []`, `ids = []`, `var_ids = []` to listy, które będą przechowywać poszczególne elementy danych w nowym DataFrame:\n",
    "     - `magnitude`: Przechowuje sygnały (fragmenty danych).\n",
    "     - `name`: Przechowuje etykiety typu sygnału.\n",
    "     - `ids`: Przechowuje identyfikatory wierszy.\n",
    "     - `var_ids`: Przechowuje identyfikatory z kolumny `identifier`.\n",
    "\n",
    "2. **Iterowanie przez wiersze w `df_concat`**:\n",
    "   - `for idx, row in df_concat.iterrows():` iteruje przez wszystkie wiersze w DataFrame `df_concat`.\n",
    "     - `lasty_name = row['type_id']`: Zmienna `lasty_name` przechowuje wartość z kolumny `type_id`, która reprezentuje etykietę typu sygnału.\n",
    "     - `identificator = row['id']`: Zmienna `identificator` przechowuje identyfikator z kolumny `id`.\n",
    "     - `var_id = row['identifier']`: Zmienna `var_id` przechowuje identyfikator z kolumny `identifier`.\n",
    "     - `segment = np.array(row['excitation']).transpose(1, 0, 2)`: Zmienna `segment` konwertuje dane w kolumnie `excitation` na tablicę numpy i dokonuje transpozycji, zmieniając kolejność wymiarów (przekształca dane w odpowiedni sposób do dalszej analizy).\n",
    "\n",
    "3. **Iterowanie przez subsegmenty**:\n",
    "   - `for subsegment in segment:`: Dla każdego subsegmentu w transponowanym segmencie sygnału, pętla wewnętrzna wykonuje:\n",
    "     - `magnitude.append(subsegment)`: Dodaje subsegment sygnału do listy `magnitude`.\n",
    "     - `name.append(lasty_name)`: Dodaje etykietę typu sygnału do listy `name`.\n",
    "     - `ids.append(identificator)`: Dodaje identyfikator wiersza do listy `ids`.\n",
    "     - `var_ids.append(var_id)`: Dodaje identyfikator z kolumny `identifier` do listy `var_ids`.\n",
    "\n",
    "4. **Tworzenie nowego DataFrame**:\n",
    "   - `df_expanded = pd.DataFrame({'name': name, 'signal_segment': magnitude, 'ids': ids, 'test': var_ids})`: Tworzy nowy DataFrame `df_expanded` z list, które zawierają dane z poprzednich kroków:\n",
    "     - `name`: Etykiety typu sygnału.\n",
    "     - `signal_segment`: Fragmenty sygnałów.\n",
    "     - `ids`: Identyfikatory wierszy.\n",
    "     - `id_pliku`: Identyfikatory z kolumny `identifier`.\n",
    "\n",
    "### Rezultat:\n",
    "- Nowy DataFrame `df_expanded` zawiera rozszerzoną wersję danych z `df_concat`, w której każdy wiersz odpowiada jednemu subsegmentowi sygnału. Każdy subsegment jest powiązany z odpowiednimi etykietami i identyfikatorami. Dzięki temu dane są bardziej rozbite, co może być przydatne do dalszej analizy.\n"
   ]
  },
  {
   "cell_type": "code",
   "execution_count": 13,
   "metadata": {},
   "outputs": [
    {
     "data": {
      "text/html": [
       "<div>\n",
       "<style scoped>\n",
       "    .dataframe tbody tr th:only-of-type {\n",
       "        vertical-align: middle;\n",
       "    }\n",
       "\n",
       "    .dataframe tbody tr th {\n",
       "        vertical-align: top;\n",
       "    }\n",
       "\n",
       "    .dataframe thead th {\n",
       "        text-align: right;\n",
       "    }\n",
       "</style>\n",
       "<table border=\"1\" class=\"dataframe\">\n",
       "  <thead>\n",
       "    <tr style=\"text-align: right;\">\n",
       "      <th></th>\n",
       "      <th>name</th>\n",
       "      <th>signal_segment</th>\n",
       "      <th>ids</th>\n",
       "      <th>id_pliku</th>\n",
       "    </tr>\n",
       "  </thead>\n",
       "  <tbody>\n",
       "    <tr>\n",
       "      <th>0</th>\n",
       "      <td>1</td>\n",
       "      <td>[[0.03646070494232446, 0.04090599899696331, 0....</td>\n",
       "      <td>0</td>\n",
       "      <td>020224d10</td>\n",
       "    </tr>\n",
       "    <tr>\n",
       "      <th>1</th>\n",
       "      <td>1</td>\n",
       "      <td>[[1.6616425952378917, 0.5358634624545653, -0.9...</td>\n",
       "      <td>0</td>\n",
       "      <td>020224d10</td>\n",
       "    </tr>\n",
       "    <tr>\n",
       "      <th>2</th>\n",
       "      <td>1</td>\n",
       "      <td>[[1.5948112888862853, 1.07505481237263, -0.252...</td>\n",
       "      <td>0</td>\n",
       "      <td>020224d10</td>\n",
       "    </tr>\n",
       "    <tr>\n",
       "      <th>3</th>\n",
       "      <td>1</td>\n",
       "      <td>[[-0.24093689044551808, -1.2630519398311268, -...</td>\n",
       "      <td>0</td>\n",
       "      <td>020224d10</td>\n",
       "    </tr>\n",
       "    <tr>\n",
       "      <th>4</th>\n",
       "      <td>1</td>\n",
       "      <td>[[0.037244865546419835, 0.046336471676801855, ...</td>\n",
       "      <td>1</td>\n",
       "      <td>020224d1</td>\n",
       "    </tr>\n",
       "    <tr>\n",
       "      <th>...</th>\n",
       "      <td>...</td>\n",
       "      <td>...</td>\n",
       "      <td>...</td>\n",
       "      <td>...</td>\n",
       "    </tr>\n",
       "    <tr>\n",
       "      <th>212</th>\n",
       "      <td>0</td>\n",
       "      <td>[[2.127668284247037, 1.7135089938366332, 0.703...</td>\n",
       "      <td>39</td>\n",
       "      <td>220424g2</td>\n",
       "    </tr>\n",
       "    <tr>\n",
       "      <th>213</th>\n",
       "      <td>0</td>\n",
       "      <td>[[0.7305820699283337, -0.5333715701358294, -1....</td>\n",
       "      <td>39</td>\n",
       "      <td>220424g2</td>\n",
       "    </tr>\n",
       "    <tr>\n",
       "      <th>214</th>\n",
       "      <td>0</td>\n",
       "      <td>[[-0.5612673630952353, -1.5605172213223388, -1...</td>\n",
       "      <td>39</td>\n",
       "      <td>220424g2</td>\n",
       "    </tr>\n",
       "    <tr>\n",
       "      <th>215</th>\n",
       "      <td>0</td>\n",
       "      <td>[[-1.6154841847288768, -1.9730924480159064, -1...</td>\n",
       "      <td>39</td>\n",
       "      <td>220424g2</td>\n",
       "    </tr>\n",
       "    <tr>\n",
       "      <th>216</th>\n",
       "      <td>0</td>\n",
       "      <td>[[-0.561219350785306, -1.5627072480203883, -1....</td>\n",
       "      <td>39</td>\n",
       "      <td>220424g2</td>\n",
       "    </tr>\n",
       "  </tbody>\n",
       "</table>\n",
       "<p>217 rows × 4 columns</p>\n",
       "</div>"
      ],
      "text/plain": [
       "     name                                     signal_segment  ids   id_pliku\n",
       "0       1  [[0.03646070494232446, 0.04090599899696331, 0....    0  020224d10\n",
       "1       1  [[1.6616425952378917, 0.5358634624545653, -0.9...    0  020224d10\n",
       "2       1  [[1.5948112888862853, 1.07505481237263, -0.252...    0  020224d10\n",
       "3       1  [[-0.24093689044551808, -1.2630519398311268, -...    0  020224d10\n",
       "4       1  [[0.037244865546419835, 0.046336471676801855, ...    1   020224d1\n",
       "..    ...                                                ...  ...        ...\n",
       "212     0  [[2.127668284247037, 1.7135089938366332, 0.703...   39   220424g2\n",
       "213     0  [[0.7305820699283337, -0.5333715701358294, -1....   39   220424g2\n",
       "214     0  [[-0.5612673630952353, -1.5605172213223388, -1...   39   220424g2\n",
       "215     0  [[-1.6154841847288768, -1.9730924480159064, -1...   39   220424g2\n",
       "216     0  [[-0.561219350785306, -1.5627072480203883, -1....   39   220424g2\n",
       "\n",
       "[217 rows x 4 columns]"
      ]
     },
     "execution_count": 13,
     "metadata": {},
     "output_type": "execute_result"
    }
   ],
   "source": [
    "sc = joblib.load('scaler.pkl')\n",
    "\n",
    "magnitude = []\n",
    "name = []\n",
    "ids = []\n",
    "var_ids = []\n",
    "for idx, row in df_concat.iterrows():\n",
    "    lasty_name = row['type_id']\n",
    "    identificator = row['id']\n",
    "    var_id = row['identifier']\n",
    "    segment = np.array(row['excitation']).transpose(1, 0, 2)\n",
    "    for subsegment in segment:\n",
    "        magnitude.append(sc.transform(subsegment))\n",
    "        name.append(lasty_name)\n",
    "        ids.append(identificator)\n",
    "        var_ids.append(var_id)\n",
    "\n",
    "df_expanded = pd.DataFrame({'name': name, 'signal_segment': magnitude, 'ids': ids, 'id_pliku': var_ids})\n",
    "df_expanded"
   ]
  },
  {
   "cell_type": "markdown",
   "metadata": {},
   "source": [
    "### Opis kodu\n",
    "\n",
    "Ten fragment kodu oblicza widmo czasowo-częstotliwościowe (STFT) dla każdego fragmentu sygnału i zapisuje wyniki w nowej kolumnie `stft` w DataFrame `df_expanded`.\n",
    "\n",
    "1. **Funkcja `calculate_stft`**:\n",
    "   - **Wejście**: Funkcja przyjmuje pojedynczy sygnał (np. fragment sygnału z kolumny `signal_segment`).\n",
    "   - **Obliczanie STFT**:\n",
    "     - `_, _, Zxx = stft(signal, fs=50000, nperseg=256, noverlap=128)`: Funkcja `stft` z biblioteki `scipy.signal` oblicza STFT sygnału. Parametry:\n",
    "       - `fs=50000`: Częstotliwość próbkowania sygnału (50 kHz).\n",
    "       - `nperseg=256`: Liczba próbek w jednej próbce (oknie).\n",
    "       - `noverlap=128`: Liczba próbek, które się nakładają w każdym oknie.\n",
    "     - Zmienna `Zxx` zawiera wynik STFT, który jest macierzą o wymiarach odpowiadających czasowi i częstotliwości.\n",
    "   \n",
    "   - **Skalowanie i przekształcanie**:\n",
    "     - `Zxx_abs = np.abs(Zxx)`: Pobieranie wartości bezwzględnej z macierzy `Zxx` (magnitude STFT).\n",
    "     - `Zxx_abs = np.log1p(Zxx_abs)`: Stosowanie logarytmu naturalnego (`log1p` dodaje 1 przed logarytmem, aby uniknąć log(0)) w celu poprawy kontrastu.\n",
    "     - `Zxx_scaled = np.uint8(255 * Zxx_abs / np.max(Zxx_abs))`: Skalowanie wartości w `Zxx_abs` do zakresu 0-255, co jest wymagane do reprezentacji obrazu.\n",
    "   \n",
    "   - **Konwersja do obrazu**:\n",
    "     - `Zxx_scaled = Image.fromarray(Zxx_scaled).convert('1').convert('L')`: Przekształcanie wartości skali szarości (0-255) do formatu obrazu (`PIL.Image`). `convert('1')` zmienia obraz na czarno-biały, a `convert('L')` przekształca go na 8-bitowy obraz w odcieniach szarości.\n",
    "     - Funkcja zwraca przekształcony obraz w postaci tablicy numpy.\n",
    "\n",
    "2. **Zastosowanie funkcji do danych**:\n",
    "   - `df_expanded['stft'] = df_expanded['signal_segment'].apply(lambda x: [calculate_stft(s) for s in x])`: Dla każdej listy segmentów sygnału w kolumnie `signal_segment`, funkcja `calculate_stft` jest wywoływana dla każdego segmentu. Wynik jest zapisywany w nowej kolumnie `stft` w DataFrame `df_expanded`.\n",
    "     - Dla każdego segmentu w kolumnie `signal_segment` generowane jest odpowiadające mu widmo STFT, a wyniki są przechowywane w formie listy w kolumnie `stft`.\n",
    "\n",
    "### Rezultat:\n",
    "- Kolumna `stft` w DataFrame `df_expanded` zawiera obrazy przedstawiające widma czasowo-częstotliwościowe (STFT) dla każdego segmentu sygnału. Obrazy te mogą być wykorzystywane do dalszej analizy, np. do klasyfikacji lub wizualizacji.\n"
   ]
  },
  {
   "cell_type": "code",
   "execution_count": 14,
   "metadata": {},
   "outputs": [],
   "source": [
    "def calculate_stft(signal):\n",
    "    _, _, Zxx = stft(signal, fs=50000, nperseg=256, noverlap=128)\n",
    "    # Skalowanie wartości Zxx do zakresu 0-255\n",
    "    Zxx_abs = np.abs(Zxx)\n",
    "    Zxx_abs = np.log1p(Zxx_abs)  # Logarytmowanie może pomóc w poprawie kontrastu\n",
    "    Zxx_scaled = np.uint8(255 * Zxx_abs / np.max(Zxx_abs))  # Skala do 0-255\n",
    "    \n",
    "    Zxx_scaled =  Image.fromarray(Zxx_scaled).convert('1').convert('L')\n",
    "\n",
    "    return np.array(Zxx_scaled)\n",
    "\n",
    "df_expanded['stft'] = df_expanded['signal_segment'].apply(lambda x: [calculate_stft(s) for s in x])"
   ]
  },
  {
   "cell_type": "code",
   "execution_count": 15,
   "metadata": {},
   "outputs": [],
   "source": [
    "train_df, test_df = train_test_split(df_expanded, random_state=42, test_size=0.2)\n",
    "\n",
    "class stft_img_dataset(Dataset):\n",
    "    def __init__(self, df, processor, transform=None):\n",
    "        self.df = df\n",
    "        self.processor = processor\n",
    "        self.transform = transform\n",
    "\n",
    "    def __len__(self):\n",
    "        return len(self.df)\n",
    "    \n",
    "    def __getitem__(self, idx):\n",
    "        # Wczytywanie obrazu i etykiety\n",
    "        image = np.array(self.df.loc[idx]['stft'])\n",
    "        label = self.df.loc[idx]['name']\n",
    "\n",
    "        # If image values are already in [0, 1], set do_rescale=False\n",
    "        image = image.astype(np.float32)\n",
    "\n",
    "        # Przetwarzanie obrazu za pomocą procesora\n",
    "        image = self.processor(image, return_tensors='pt').pixel_values  # Avoid rescaling\n",
    "\n",
    "        # Jeśli transformacje zostały zdefiniowane, stosujemy je\n",
    "        if self.transform:\n",
    "            image = self.transform(image)\n",
    "\n",
    "        return image, label\n",
    "\n",
    "\n",
    "    \n",
    "processor = ViTImageProcessor.from_pretrained(\"google/vit-base-patch16-224-in21k\")\n",
    "train_dataset = stft_img_dataset(train_df.reset_index(), processor)\n",
    "test_dataset = stft_img_dataset(test_df.reset_index(), processor)\n",
    "\n",
    "BATCH_SIZE = 8\n",
    "train_dataloader = DataLoader(train_dataset, BATCH_SIZE, shuffle=True)\n",
    "test_dataloader = DataLoader(test_dataset, BATCH_SIZE, shuffle=True)"
   ]
  },
  {
   "cell_type": "code",
   "execution_count": 16,
   "metadata": {},
   "outputs": [
    {
     "name": "stdout",
     "output_type": "stream",
     "text": [
      "\n"
     ]
    }
   ],
   "source": [
    "# Initialize the configuration and set the number of input channels\n",
    "configuration = ViTConfig.from_pretrained(\"google/vit-base-patch16-224\")\n",
    "configuration.num_channels = 3\n",
    "\n",
    "# Load the pretrained model\n",
    "model = ViTForImageClassification(configuration)\n",
    "\n",
    "# Move the model to the appropriate device (GPU or CPU)\n",
    "device = torch.device(\"cuda\" if torch.cuda.is_available() else \"cpu\")\n",
    "model.to(device)\n",
    "\n",
    "print()"
   ]
  },
  {
   "cell_type": "code",
   "execution_count": 17,
   "metadata": {},
   "outputs": [],
   "source": [
    "from sklearn.metrics import accuracy_score\n",
    "\n",
    "def compute_metrics(p):\n",
    "    predictions, labels = p\n",
    "    preds = np.argmax(predictions, axis=1)  # Zwróć klasy (indeksy) z wyników\n",
    "    return {\"accuracy\": accuracy_score(labels, preds)}"
   ]
  },
  {
   "cell_type": "code",
   "execution_count": 18,
   "metadata": {},
   "outputs": [
    {
     "name": "stderr",
     "output_type": "stream",
     "text": [
      "  0%|          | 0/50 [00:00<?, ?it/s]"
     ]
    },
    {
     "name": "stdout",
     "output_type": "stream",
     "text": [
      "Epoch 1/50 - Train loss: 1.1047, Train accuracy: 0.5670, Eval loss: 0.7793, Eval accuracy: 0.5417\n"
     ]
    },
    {
     "name": "stderr",
     "output_type": "stream",
     "text": [
      "  2%|▏         | 1/50 [00:10<08:22, 10.26s/it]"
     ]
    },
    {
     "name": "stdout",
     "output_type": "stream",
     "text": [
      "Epoch 2/50 - Train loss: 0.6863, Train accuracy: 0.5852, Eval loss: 0.8433, Eval accuracy: 0.5417\n"
     ]
    },
    {
     "name": "stderr",
     "output_type": "stream",
     "text": [
      "  4%|▍         | 2/50 [00:19<07:39,  9.57s/it]"
     ]
    },
    {
     "name": "stdout",
     "output_type": "stream",
     "text": [
      "Epoch 3/50 - Train loss: 0.6841, Train accuracy: 0.6125, Eval loss: 0.8145, Eval accuracy: 0.5417\n"
     ]
    },
    {
     "name": "stderr",
     "output_type": "stream",
     "text": [
      "  6%|▌         | 3/50 [00:28<07:25,  9.47s/it]"
     ]
    },
    {
     "name": "stdout",
     "output_type": "stream",
     "text": [
      "Epoch 4/50 - Train loss: 0.7027, Train accuracy: 0.5670, Eval loss: 0.6943, Eval accuracy: 0.5417\n"
     ]
    },
    {
     "name": "stderr",
     "output_type": "stream",
     "text": [
      "  8%|▊         | 4/50 [00:37<07:05,  9.26s/it]"
     ]
    },
    {
     "name": "stdout",
     "output_type": "stream",
     "text": [
      "Epoch 5/50 - Train loss: 0.6787, Train accuracy: 0.6114, Eval loss: 0.6867, Eval accuracy: 0.5417\n"
     ]
    },
    {
     "name": "stderr",
     "output_type": "stream",
     "text": [
      " 10%|█         | 5/50 [00:46<06:49,  9.10s/it]"
     ]
    },
    {
     "name": "stdout",
     "output_type": "stream",
     "text": [
      "Epoch 6/50 - Train loss: 0.6529, Train accuracy: 0.6932, Eval loss: 0.7703, Eval accuracy: 0.5417\n"
     ]
    },
    {
     "name": "stderr",
     "output_type": "stream",
     "text": [
      " 12%|█▏        | 6/50 [00:55<06:37,  9.04s/it]"
     ]
    },
    {
     "name": "stdout",
     "output_type": "stream",
     "text": [
      "Epoch 7/50 - Train loss: 0.7256, Train accuracy: 0.5875, Eval loss: 1.0339, Eval accuracy: 0.5417\n"
     ]
    },
    {
     "name": "stderr",
     "output_type": "stream",
     "text": [
      " 14%|█▍        | 7/50 [01:04<06:27,  9.00s/it]"
     ]
    },
    {
     "name": "stdout",
     "output_type": "stream",
     "text": [
      "Epoch 8/50 - Train loss: 0.6046, Train accuracy: 0.6920, Eval loss: 0.5954, Eval accuracy: 0.7500\n"
     ]
    },
    {
     "name": "stderr",
     "output_type": "stream",
     "text": [
      " 16%|█▌        | 8/50 [01:13<06:15,  8.95s/it]"
     ]
    },
    {
     "name": "stdout",
     "output_type": "stream",
     "text": [
      "Epoch 9/50 - Train loss: 0.5599, Train accuracy: 0.7318, Eval loss: 0.4624, Eval accuracy: 0.6875\n"
     ]
    },
    {
     "name": "stderr",
     "output_type": "stream",
     "text": [
      " 18%|█▊        | 9/50 [01:22<06:10,  9.04s/it]"
     ]
    },
    {
     "name": "stdout",
     "output_type": "stream",
     "text": [
      "Epoch 10/50 - Train loss: 0.4158, Train accuracy: 0.8466, Eval loss: 0.4126, Eval accuracy: 0.8542\n"
     ]
    },
    {
     "name": "stderr",
     "output_type": "stream",
     "text": [
      " 20%|██        | 10/50 [01:31<06:01,  9.04s/it]"
     ]
    },
    {
     "name": "stdout",
     "output_type": "stream",
     "text": [
      "Epoch 11/50 - Train loss: 0.3112, Train accuracy: 0.8693, Eval loss: 0.2399, Eval accuracy: 0.8750\n"
     ]
    },
    {
     "name": "stderr",
     "output_type": "stream",
     "text": [
      " 22%|██▏       | 11/50 [01:40<05:52,  9.03s/it]"
     ]
    },
    {
     "name": "stdout",
     "output_type": "stream",
     "text": [
      "Epoch 12/50 - Train loss: 0.1850, Train accuracy: 0.9375, Eval loss: 0.2810, Eval accuracy: 0.8542\n"
     ]
    },
    {
     "name": "stderr",
     "output_type": "stream",
     "text": [
      " 24%|██▍       | 12/50 [01:49<05:42,  9.02s/it]"
     ]
    },
    {
     "name": "stdout",
     "output_type": "stream",
     "text": [
      "Epoch 13/50 - Train loss: 0.2009, Train accuracy: 0.8932, Eval loss: 0.1635, Eval accuracy: 0.9167\n"
     ]
    },
    {
     "name": "stderr",
     "output_type": "stream",
     "text": [
      " 26%|██▌       | 13/50 [01:58<05:34,  9.04s/it]"
     ]
    },
    {
     "name": "stdout",
     "output_type": "stream",
     "text": [
      "Epoch 14/50 - Train loss: 0.1595, Train accuracy: 0.9318, Eval loss: 0.1761, Eval accuracy: 0.8958\n"
     ]
    },
    {
     "name": "stderr",
     "output_type": "stream",
     "text": [
      " 28%|██▊       | 14/50 [02:07<05:24,  9.02s/it]"
     ]
    },
    {
     "name": "stdout",
     "output_type": "stream",
     "text": [
      "Epoch 15/50 - Train loss: 0.1267, Train accuracy: 0.9318, Eval loss: 0.1325, Eval accuracy: 0.9583\n"
     ]
    },
    {
     "name": "stderr",
     "output_type": "stream",
     "text": [
      " 30%|███       | 15/50 [02:16<05:16,  9.03s/it]"
     ]
    },
    {
     "name": "stdout",
     "output_type": "stream",
     "text": [
      "Epoch 16/50 - Train loss: 0.1088, Train accuracy: 0.9432, Eval loss: 0.1107, Eval accuracy: 0.9583\n"
     ]
    },
    {
     "name": "stderr",
     "output_type": "stream",
     "text": [
      " 32%|███▏      | 16/50 [02:25<05:07,  9.03s/it]"
     ]
    },
    {
     "name": "stdout",
     "output_type": "stream",
     "text": [
      "Epoch 17/50 - Train loss: 0.1042, Train accuracy: 0.9318, Eval loss: 0.1535, Eval accuracy: 0.9375\n"
     ]
    },
    {
     "name": "stderr",
     "output_type": "stream",
     "text": [
      " 34%|███▍      | 17/50 [02:34<04:58,  9.04s/it]"
     ]
    },
    {
     "name": "stdout",
     "output_type": "stream",
     "text": [
      "Epoch 18/50 - Train loss: 0.1040, Train accuracy: 0.9545, Eval loss: 0.1756, Eval accuracy: 0.9375\n"
     ]
    },
    {
     "name": "stderr",
     "output_type": "stream",
     "text": [
      " 36%|███▌      | 18/50 [02:44<04:52,  9.15s/it]"
     ]
    },
    {
     "name": "stdout",
     "output_type": "stream",
     "text": [
      "Epoch 19/50 - Train loss: 0.0906, Train accuracy: 0.9659, Eval loss: 0.1351, Eval accuracy: 0.9375\n"
     ]
    },
    {
     "name": "stderr",
     "output_type": "stream",
     "text": [
      " 38%|███▊      | 19/50 [02:53<04:44,  9.19s/it]"
     ]
    },
    {
     "name": "stdout",
     "output_type": "stream",
     "text": [
      "Epoch 20/50 - Train loss: 0.0818, Train accuracy: 0.9568, Eval loss: 0.1432, Eval accuracy: 0.9375\n"
     ]
    },
    {
     "name": "stderr",
     "output_type": "stream",
     "text": [
      " 40%|████      | 20/50 [03:02<04:37,  9.25s/it]"
     ]
    },
    {
     "name": "stdout",
     "output_type": "stream",
     "text": [
      "Epoch 21/50 - Train loss: 0.0970, Train accuracy: 0.9398, Eval loss: 0.3611, Eval accuracy: 0.8542\n"
     ]
    },
    {
     "name": "stderr",
     "output_type": "stream",
     "text": [
      " 42%|████▏     | 21/50 [03:13<04:38,  9.59s/it]"
     ]
    },
    {
     "name": "stdout",
     "output_type": "stream",
     "text": [
      "Epoch 22/50 - Train loss: 0.1438, Train accuracy: 0.9318, Eval loss: 0.1315, Eval accuracy: 0.9375\n"
     ]
    },
    {
     "name": "stderr",
     "output_type": "stream",
     "text": [
      " 44%|████▍     | 22/50 [03:22<04:29,  9.61s/it]"
     ]
    },
    {
     "name": "stdout",
     "output_type": "stream",
     "text": [
      "Epoch 23/50 - Train loss: 0.0984, Train accuracy: 0.9511, Eval loss: 0.1682, Eval accuracy: 0.9167\n"
     ]
    },
    {
     "name": "stderr",
     "output_type": "stream",
     "text": [
      " 46%|████▌     | 23/50 [03:32<04:21,  9.69s/it]"
     ]
    },
    {
     "name": "stdout",
     "output_type": "stream",
     "text": [
      "Epoch 24/50 - Train loss: 0.0753, Train accuracy: 0.9489, Eval loss: 0.1640, Eval accuracy: 0.9375\n"
     ]
    },
    {
     "name": "stderr",
     "output_type": "stream",
     "text": [
      " 48%|████▊     | 24/50 [03:42<04:11,  9.69s/it]"
     ]
    },
    {
     "name": "stdout",
     "output_type": "stream",
     "text": [
      "Epoch 25/50 - Train loss: 0.0768, Train accuracy: 0.9602, Eval loss: 0.0919, Eval accuracy: 0.9375\n"
     ]
    },
    {
     "name": "stderr",
     "output_type": "stream",
     "text": [
      " 50%|█████     | 25/50 [03:52<04:02,  9.71s/it]"
     ]
    },
    {
     "name": "stdout",
     "output_type": "stream",
     "text": [
      "Epoch 26/50 - Train loss: 0.0994, Train accuracy: 0.9398, Eval loss: 0.1783, Eval accuracy: 0.9375\n"
     ]
    },
    {
     "name": "stderr",
     "output_type": "stream",
     "text": [
      " 52%|█████▏    | 26/50 [04:01<03:50,  9.60s/it]"
     ]
    },
    {
     "name": "stdout",
     "output_type": "stream",
     "text": [
      "Epoch 27/50 - Train loss: 0.0711, Train accuracy: 0.9489, Eval loss: 0.1692, Eval accuracy: 0.9583\n"
     ]
    },
    {
     "name": "stderr",
     "output_type": "stream",
     "text": [
      " 54%|█████▍    | 27/50 [04:10<03:38,  9.50s/it]"
     ]
    },
    {
     "name": "stdout",
     "output_type": "stream",
     "text": [
      "Epoch 28/50 - Train loss: 0.0601, Train accuracy: 0.9773, Eval loss: 0.1747, Eval accuracy: 0.9583\n"
     ]
    },
    {
     "name": "stderr",
     "output_type": "stream",
     "text": [
      " 56%|█████▌    | 28/50 [04:20<03:27,  9.45s/it]"
     ]
    },
    {
     "name": "stdout",
     "output_type": "stream",
     "text": [
      "Epoch 29/50 - Train loss: 0.0420, Train accuracy: 0.9773, Eval loss: 0.2005, Eval accuracy: 0.9792\n"
     ]
    },
    {
     "name": "stderr",
     "output_type": "stream",
     "text": [
      " 58%|█████▊    | 29/50 [04:29<03:18,  9.47s/it]"
     ]
    },
    {
     "name": "stdout",
     "output_type": "stream",
     "text": [
      "Epoch 30/50 - Train loss: 0.0262, Train accuracy: 0.9886, Eval loss: 0.2460, Eval accuracy: 0.9375\n"
     ]
    },
    {
     "name": "stderr",
     "output_type": "stream",
     "text": [
      " 60%|██████    | 30/50 [04:40<03:20, 10.01s/it]"
     ]
    },
    {
     "name": "stdout",
     "output_type": "stream",
     "text": [
      "Epoch 31/50 - Train loss: 0.1366, Train accuracy: 0.9398, Eval loss: 0.1478, Eval accuracy: 0.9583\n"
     ]
    },
    {
     "name": "stderr",
     "output_type": "stream",
     "text": [
      " 62%|██████▏   | 31/50 [04:50<03:08,  9.93s/it]"
     ]
    },
    {
     "name": "stdout",
     "output_type": "stream",
     "text": [
      "Epoch 32/50 - Train loss: 0.0738, Train accuracy: 0.9773, Eval loss: 0.1034, Eval accuracy: 0.9375\n"
     ]
    },
    {
     "name": "stderr",
     "output_type": "stream",
     "text": [
      " 64%|██████▍   | 32/50 [05:00<02:58,  9.89s/it]"
     ]
    },
    {
     "name": "stdout",
     "output_type": "stream",
     "text": [
      "Epoch 33/50 - Train loss: 0.0507, Train accuracy: 0.9773, Eval loss: 0.1285, Eval accuracy: 0.9583\n"
     ]
    },
    {
     "name": "stderr",
     "output_type": "stream",
     "text": [
      " 66%|██████▌   | 33/50 [05:10<02:50, 10.00s/it]"
     ]
    },
    {
     "name": "stdout",
     "output_type": "stream",
     "text": [
      "Epoch 34/50 - Train loss: 0.0392, Train accuracy: 0.9830, Eval loss: 0.2287, Eval accuracy: 0.9375\n"
     ]
    },
    {
     "name": "stderr",
     "output_type": "stream",
     "text": [
      " 68%|██████▊   | 34/50 [05:19<02:36,  9.77s/it]"
     ]
    },
    {
     "name": "stdout",
     "output_type": "stream",
     "text": [
      "Epoch 35/50 - Train loss: 0.0434, Train accuracy: 0.9773, Eval loss: 0.1475, Eval accuracy: 0.9583\n"
     ]
    },
    {
     "name": "stderr",
     "output_type": "stream",
     "text": [
      " 70%|███████   | 35/50 [05:29<02:24,  9.62s/it]"
     ]
    },
    {
     "name": "stdout",
     "output_type": "stream",
     "text": [
      "Epoch 36/50 - Train loss: 0.0212, Train accuracy: 1.0000, Eval loss: 0.1741, Eval accuracy: 0.9792\n"
     ]
    },
    {
     "name": "stderr",
     "output_type": "stream",
     "text": [
      " 72%|███████▏  | 36/50 [05:38<02:12,  9.50s/it]"
     ]
    },
    {
     "name": "stdout",
     "output_type": "stream",
     "text": [
      "Epoch 37/50 - Train loss: 0.0100, Train accuracy: 1.0000, Eval loss: 0.1979, Eval accuracy: 0.9792\n"
     ]
    },
    {
     "name": "stderr",
     "output_type": "stream",
     "text": [
      " 74%|███████▍  | 37/50 [05:47<02:03,  9.53s/it]"
     ]
    },
    {
     "name": "stdout",
     "output_type": "stream",
     "text": [
      "Epoch 38/50 - Train loss: 0.0056, Train accuracy: 1.0000, Eval loss: 0.2038, Eval accuracy: 0.9792\n"
     ]
    },
    {
     "name": "stderr",
     "output_type": "stream",
     "text": [
      " 76%|███████▌  | 38/50 [05:58<01:58,  9.84s/it]"
     ]
    },
    {
     "name": "stdout",
     "output_type": "stream",
     "text": [
      "Epoch 39/50 - Train loss: 0.0031, Train accuracy: 1.0000, Eval loss: 0.2174, Eval accuracy: 0.9792\n"
     ]
    },
    {
     "name": "stderr",
     "output_type": "stream",
     "text": [
      " 78%|███████▊  | 39/50 [06:07<01:46,  9.71s/it]"
     ]
    },
    {
     "name": "stdout",
     "output_type": "stream",
     "text": [
      "Epoch 40/50 - Train loss: 0.0017, Train accuracy: 1.0000, Eval loss: 0.2222, Eval accuracy: 0.9792\n"
     ]
    },
    {
     "name": "stderr",
     "output_type": "stream",
     "text": [
      " 80%|████████  | 40/50 [06:17<01:35,  9.54s/it]"
     ]
    },
    {
     "name": "stdout",
     "output_type": "stream",
     "text": [
      "Epoch 41/50 - Train loss: 0.0012, Train accuracy: 1.0000, Eval loss: 0.2244, Eval accuracy: 0.9792\n"
     ]
    },
    {
     "name": "stderr",
     "output_type": "stream",
     "text": [
      " 82%|████████▏ | 41/50 [06:26<01:25,  9.45s/it]"
     ]
    },
    {
     "name": "stdout",
     "output_type": "stream",
     "text": [
      "Epoch 42/50 - Train loss: 0.0010, Train accuracy: 1.0000, Eval loss: 0.2258, Eval accuracy: 0.9792\n"
     ]
    },
    {
     "name": "stderr",
     "output_type": "stream",
     "text": [
      " 84%|████████▍ | 42/50 [06:35<01:14,  9.36s/it]"
     ]
    },
    {
     "name": "stdout",
     "output_type": "stream",
     "text": [
      "Epoch 43/50 - Train loss: 0.0009, Train accuracy: 1.0000, Eval loss: 0.2267, Eval accuracy: 0.9792\n"
     ]
    },
    {
     "name": "stderr",
     "output_type": "stream",
     "text": [
      " 86%|████████▌ | 43/50 [06:44<01:05,  9.31s/it]"
     ]
    },
    {
     "name": "stdout",
     "output_type": "stream",
     "text": [
      "Epoch 44/50 - Train loss: 0.0008, Train accuracy: 1.0000, Eval loss: 0.2305, Eval accuracy: 0.9792\n"
     ]
    },
    {
     "name": "stderr",
     "output_type": "stream",
     "text": [
      " 88%|████████▊ | 44/50 [06:53<00:55,  9.28s/it]"
     ]
    },
    {
     "name": "stdout",
     "output_type": "stream",
     "text": [
      "Epoch 45/50 - Train loss: 0.0008, Train accuracy: 1.0000, Eval loss: 0.2313, Eval accuracy: 0.9792\n"
     ]
    },
    {
     "name": "stderr",
     "output_type": "stream",
     "text": [
      " 90%|█████████ | 45/50 [07:03<00:46,  9.27s/it]"
     ]
    },
    {
     "name": "stdout",
     "output_type": "stream",
     "text": [
      "Epoch 46/50 - Train loss: 0.0007, Train accuracy: 1.0000, Eval loss: 0.2318, Eval accuracy: 0.9792\n"
     ]
    },
    {
     "name": "stderr",
     "output_type": "stream",
     "text": [
      " 92%|█████████▏| 46/50 [07:12<00:36,  9.24s/it]"
     ]
    },
    {
     "name": "stdout",
     "output_type": "stream",
     "text": [
      "Epoch 47/50 - Train loss: 0.0007, Train accuracy: 1.0000, Eval loss: 0.2325, Eval accuracy: 0.9792\n"
     ]
    },
    {
     "name": "stderr",
     "output_type": "stream",
     "text": [
      " 94%|█████████▍| 47/50 [07:21<00:27,  9.22s/it]"
     ]
    },
    {
     "name": "stdout",
     "output_type": "stream",
     "text": [
      "Epoch 48/50 - Train loss: 0.0007, Train accuracy: 1.0000, Eval loss: 0.2329, Eval accuracy: 0.9792\n"
     ]
    },
    {
     "name": "stderr",
     "output_type": "stream",
     "text": [
      " 96%|█████████▌| 48/50 [07:30<00:18,  9.21s/it]"
     ]
    },
    {
     "name": "stdout",
     "output_type": "stream",
     "text": [
      "Epoch 49/50 - Train loss: 0.0007, Train accuracy: 1.0000, Eval loss: 0.2332, Eval accuracy: 0.9792\n"
     ]
    },
    {
     "name": "stderr",
     "output_type": "stream",
     "text": [
      " 98%|█████████▊| 49/50 [07:39<00:09,  9.21s/it]"
     ]
    },
    {
     "name": "stdout",
     "output_type": "stream",
     "text": [
      "Epoch 50/50 - Train loss: 0.0007, Train accuracy: 1.0000, Eval loss: 0.2333, Eval accuracy: 0.9792\n"
     ]
    },
    {
     "name": "stderr",
     "output_type": "stream",
     "text": [
      "100%|██████████| 50/50 [07:48<00:00,  9.38s/it]\n"
     ]
    },
    {
     "data": {
      "image/png": "[encoded data removed]",
      "text/plain": [
       "<Figure size 1000x600 with 1 Axes>"
      ]
     },
     "metadata": {},
     "output_type": "display_data"
    },
    {
     "data": {
      "image/png": "[encoded data removed]",
      "text/plain": [
       "<Figure size 1000x600 with 1 Axes>"
      ]
     },
     "metadata": {},
     "output_type": "display_data"
    }
   ],
   "source": [
    "# Parametry\n",
    "num_epochs = 50\n",
    "learning_rate = 5e-5\n",
    "batch_size = 8\n",
    "\n",
    "# Przygotowanie LabelEncoder dla etykiet\n",
    "label_encoder = LabelEncoder()\n",
    "train_labels = train_df['name'].unique()\n",
    "label_encoder.fit(train_labels)\n",
    "\n",
    "# Przygotowanie dataloaderów\n",
    "train_dataloader = DataLoader(train_dataset, batch_size=batch_size, shuffle=True)\n",
    "test_dataloader = DataLoader(test_dataset, batch_size=batch_size)\n",
    "\n",
    "# Funkcja do obliczania metryk\n",
    "def compute_metrics(predictions, labels):\n",
    "    pred_labels = predictions.argmax(dim=-1)\n",
    "    accuracy = (pred_labels == labels).sum().item() / len(labels)\n",
    "    return accuracy\n",
    "\n",
    "# Funkcja do trenowania jednej epoki\n",
    "def train_one_epoch(model, train_dataloader, optimizer, loss_fn, lr_scheduler, device, label_encoder):\n",
    "    model.train()\n",
    "    total_loss = 0\n",
    "    total_accuracy = 0\n",
    "\n",
    "    for batch in train_dataloader:\n",
    "        optimizer.zero_grad()\n",
    "\n",
    "        # Przesyłanie danych do urządzenia\n",
    "        images, labels = batch\n",
    "        images = images.squeeze().to(device)\n",
    "        labels = label_encoder.transform(labels)\n",
    "        labels = torch.tensor(labels).to(device)\n",
    "\n",
    "        # Forward pass\n",
    "        outputs = model(images)\n",
    "        logits = outputs.logits\n",
    "        loss = loss_fn(logits, labels)\n",
    "        total_loss += loss.item()\n",
    "\n",
    "        # Obliczanie dokładności\n",
    "        accuracy = compute_metrics(logits, labels)\n",
    "        total_accuracy += accuracy\n",
    "\n",
    "        # Backpropagation\n",
    "        loss.backward()\n",
    "        optimizer.step()\n",
    "        lr_scheduler.step()\n",
    "\n",
    "    avg_loss = total_loss / len(train_dataloader)\n",
    "    avg_accuracy = total_accuracy / len(train_dataloader)\n",
    "    return avg_loss, avg_accuracy\n",
    "\n",
    "# Funkcja do ewaluacji\n",
    "def evaluate(model, test_dataloader, loss_fn, device, label_encoder):\n",
    "    model.eval()\n",
    "    total_loss = 0\n",
    "    total_accuracy = 0\n",
    "\n",
    "    with torch.no_grad():\n",
    "        for batch in test_dataloader:\n",
    "            # Przesyłanie danych do urządzenia\n",
    "            images, labels = batch\n",
    "            images = images.squeeze().to(device)\n",
    "            labels = label_encoder.transform(labels)\n",
    "            labels = torch.tensor(labels).to(device)\n",
    "\n",
    "            # Forward pass\n",
    "            outputs = model(images)\n",
    "            logits = outputs.logits\n",
    "            loss = loss_fn(logits, labels)\n",
    "            total_loss += loss.item()\n",
    "\n",
    "            # Obliczanie dokładności\n",
    "            accuracy = compute_metrics(logits, labels)\n",
    "            total_accuracy += accuracy\n",
    "\n",
    "    avg_loss = total_loss / len(test_dataloader)\n",
    "    avg_accuracy = total_accuracy / len(test_dataloader)\n",
    "    return avg_loss, avg_accuracy\n",
    "\n",
    "# Funkcja do treningu i ewaluacji\n",
    "def train_and_evaluate(model, train_dataloader, test_dataloader, num_epochs, learning_rate, device):\n",
    "    # Inicjalizacja optymalizatora i scheduler\n",
    "    optimizer = AdamW(model.parameters(), lr=learning_rate)\n",
    "    num_training_steps = num_epochs * len(train_dataloader)\n",
    "    lr_scheduler = get_scheduler(\n",
    "        \"linear\", optimizer=optimizer, num_warmup_steps=0, num_training_steps=num_training_steps\n",
    "    )\n",
    "\n",
    "    loss_fn = torch.nn.CrossEntropyLoss()\n",
    "    train_losses, eval_losses = [], []\n",
    "    train_accuracies, eval_accuracies = [], []\n",
    "\n",
    "    for epoch in tqdm(range(num_epochs)):\n",
    "        # Trening\n",
    "        train_loss, train_accuracy = train_one_epoch(\n",
    "            model, train_dataloader, optimizer, loss_fn, lr_scheduler, device, label_encoder\n",
    "        )\n",
    "        train_losses.append(train_loss)\n",
    "        train_accuracies.append(train_accuracy)\n",
    "\n",
    "        # Ewaluacja\n",
    "        eval_loss, eval_accuracy = evaluate(\n",
    "            model, test_dataloader, loss_fn, device, label_encoder\n",
    "        )\n",
    "        eval_losses.append(eval_loss)\n",
    "        eval_accuracies.append(eval_accuracy)\n",
    "\n",
    "        print(\n",
    "            f\"Epoch {epoch + 1}/{num_epochs} - Train loss: {train_loss:.4f}, \"\n",
    "            f\"Train accuracy: {train_accuracy:.4f}, Eval loss: {eval_loss:.4f}, \"\n",
    "            f\"Eval accuracy: {eval_accuracy:.4f}\"\n",
    "        )\n",
    "\n",
    "        torch.save(model.state_dict(), r\"test.pth\")\n",
    "\n",
    "    return train_losses, eval_losses, train_accuracies, eval_accuracies\n",
    "\n",
    "# Wykresy wyników\n",
    "def plot_metrics(train_metrics, eval_metrics, metric_name, title):\n",
    "    plt.figure(figsize=(10, 6))\n",
    "    plt.plot(train_metrics, label=f'Train {metric_name}')\n",
    "    plt.plot(eval_metrics, label=f'Validation {metric_name}')\n",
    "    plt.xlabel('Epoch')\n",
    "    plt.ylabel(metric_name)\n",
    "    plt.title(title)\n",
    "    plt.legend()\n",
    "    plt.grid(True)\n",
    "    plt.show()\n",
    "\n",
    "# Wywołanie funkcji treningowej\n",
    "train_losses, eval_losses, train_accuracies, eval_accuracies = train_and_evaluate(\n",
    "    model, train_dataloader, test_dataloader, num_epochs, learning_rate, device\n",
    ")\n",
    "\n",
    "# Rysowanie wykresów\n",
    "plot_metrics(train_losses, eval_losses, 'Loss', 'Training and Validation Loss')\n",
    "plot_metrics(train_accuracies, eval_accuracies, 'Accuracy', 'Training and Validation Accuracy')"
   ]
  },
  {
   "cell_type": "code",
   "execution_count": 19,
   "metadata": {},
   "outputs": [],
   "source": [
    "torch.save(model.state_dict(), r\"test.pth\")"
   ]
  }
 ],
 "metadata": {
  "kernelspec": {
   "display_name": "Python 3",
   "language": "python",
   "name": "python3"
  },
  "language_info": {
   "codemirror_mode": {
    "name": "ipython",
    "version": 3
   },
   "file_extension": ".py",
   "mimetype": "text/x-python",
   "name": "python",
   "nbconvert_exporter": "python",
   "pygments_lexer": "ipython3",
   "version": "3.11.8"
  }
 },
 "nbformat": 4,
 "nbformat_minor": 2
}
